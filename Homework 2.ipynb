{
 "cells": [
  {
   "cell_type": "markdown",
   "metadata": {},
   "source": [
    "# Theory/Computation Problems\n",
    "\n",
    "### Problem 1 (20 points) \n",
    "Show that the stationary point (zero gradient) of the function\n",
    "$$\n",
    "\\begin{aligned}\n",
    "    f=2x_{1}^{2} - 4x_1 x_2+ 1.5x^{2}_{2}+ x_2\n",
    "\\end{aligned}\n",
    "$$\n",
    "is a saddle (with indefinite Hessian). Find the directions of downslopes away from the saddle. Hint: Use Taylor's expansion at the saddle point. Find directions that reduce $f$."
   ]
  },
  {
   "cell_type": "markdown",
   "metadata": {},
   "source": [
    "### Answer: \n",
    "The gradient of this function $f=2x_{1}^{2} - 4x_1 x_2+ 1.5x^{2}_{2}+ x_2$ is\n",
    "$$\n",
    "g^T = \n",
    "\\begin{bmatrix}\n",
    "4x_{1} - 4x_{2}\\\\\n",
    "-4x_{1} + 3x_{2} + 1\\\\\n",
    "\\end{bmatrix}\n",
    "$$\n",
    "then we can have the Hessian martix, which is\n",
    "$$\n",
    "H = \n",
    "\\begin{bmatrix}\n",
    "4&-4\\\\\n",
    "-4&3\\\\\n",
    "\\end{bmatrix}\n",
    "$$\n",
    "Let's calculate the eigenvalue for the Hessian matrix, which is $\\lambda_{1} = \\frac{-7+\\sqrt{65}}{2}$ and $\\lambda_{2} = \\frac{-7-\\sqrt{65}}{2}$. It shows that one eigenvalue is positive, the other is negative. So the stationary point of this function is a saddle point.\n",
    "\n",
    "Use Tanlor's expansion to expand the function, we can have ($x_{0}$is the saddle point)\n",
    "$$\n",
    "f(x) = f(x_{0}) + g^T(x_{0})(x-x_{0})+\\frac{1}{2}(x-x_{0})^T H (x-x_{0})\n",
    "$$\n",
    "We also know that $g^T(x_{0}) = 0$ and $f(x)-f(x_{0})=\\frac{1}{2}(x-x_{0})^T H (x-x_{0})$, we let $\\Delta x_1 = x_1 - x_0, \\Delta x_2 = x_2 - x_0$\n",
    "\n",
    "Decompose the expression $f(x)-f(x_{0})=\\frac{1}{2}(x-x_{0})^T H (x-x_{0})$, we can have \n",
    "$$\n",
    "f(x)-f(x_{0})=\\frac{1}{2}(2\\Delta x_1 - 3\\Delta x_2)(2\\Delta x_1 - \\Delta x_2)\n",
    "$$\n",
    "\n",
    "The downslopes should meet $f(x)-f(x_{0}) < 0$. So we can have that $2\\Delta x_1 - 3\\Delta x_2 < 0, 2\\Delta x_1 - \\Delta x_2 > 0$ or $2\\Delta x_1 - \\Delta x_2 < 0, 2\\Delta x_1 - 3\\Delta x_2 > 0$. So the $2\\Delta x_1 - 3\\Delta x_2 < 0$ or $2\\Delta x_1 - \\Delta x_2 < 0$ is the downslope direction away from the saddle. Plug the saddle point into the above expression, we can have that $2(x_1 - 1) - 3(x_2 - 1) < 0$ or $2(x_1 - 1) - (x_2 - 1) < 0 \\Rightarrow 2x_1 - 3x_2 +1 < 0$ or $2x_1 - x_2 -1 < 0$"
   ]
  },
  {
   "cell_type": "markdown",
   "metadata": {},
   "source": [
    "### Problem 2 (50 points) \n",
    "\n",
    "* (10 points) Find the point in the plane $x_1+2x_2+3x_3=1$ in $\\mathbb{R}^3$ that is nearest to the point $(-1,0,1)^T$. Is this a convex problem? Hint: Convert the problem into an unconstrained problem using $x_1+2x_2+3x_3=1$.\n",
    "\n",
    "* (40 points) Implement the gradient descent and Newton's algorithm for solving the problem. Attach your codes along with a short summary including (1) the initial points tested, (2) corresponding solutions, (3) a log-linear convergence plot."
   ]
  },
  {
   "cell_type": "markdown",
   "metadata": {},
   "source": [
    "### Answer:\n",
    "We minimize the distance between point in the plance and point $(-1, 0, 1)^T$ with the constraint\n",
    "$$\n",
    "\\begin{aligned}\n",
    "&\\text{minimize:} && (x_1+1)^2+x_2^2+(x_3-1)^2\\\\\n",
    "&\\text{subject to:} && x_1 + 2x_2 + 3x_3 = 1\n",
    "\\end{aligned}\n",
    "$$\n",
    "\n",
    "Let's convert the constraint as $x_1 = 1 - 2x_2 - 3x_3$, plug it into the minimized function:\n",
    "$$\n",
    "\\begin{aligned}\n",
    "&\\text{minimize:} &&f=(2-2x_2-3x_3)^2+x_2^2+(x_3-1)^2=5x_2^2-8x_2+12x_2x_3-14x_3+10x_3^2+5\\\\\n",
    "\\end{aligned}\n",
    "$$\n",
    "\n",
    "The gradient for $f$ is\n",
    "$$\n",
    "\\begin{bmatrix}\n",
    "10x_2+12x_3-8\\\\\n",
    "20x_3+12x_2-14\\\\\n",
    "\\end{bmatrix}\n",
    "$$\n",
    "\n",
    "Let gradient = 0, we can have that $x_2 = -\\frac{1}{7}$, $x_3 = \\frac{11}{14}$ and $x_1 = 1 - 2x_2- 3x_3 = -\\frac{15}{14}$\n",
    "\n",
    "We can calculate the Hessian matrix for the function $f$ and find\n",
    "$$\n",
    "H = \n",
    "\\begin{bmatrix}\n",
    "10&12\\\\\n",
    "12&20\\\\\n",
    "\\end{bmatrix}\n",
    "$$\n",
    "The eigenvalue is $\\lambda_1 = 28$ and $\\lambda_2 = 2$, which shows that $H$ is positive definite matrix. From the Lemma, we know that function $f$ is convex."
   ]
  },
  {
   "cell_type": "code",
   "execution_count": 13,
   "metadata": {},
   "outputs": [
    {
     "name": "stdout",
     "output_type": "stream",
     "text": [
      "[array([[0],\n",
      "       [0]]), array([[0.0625  ],\n",
      "       [0.109375]]), array([[0.10986328],\n",
      "       [0.19580078]]), array([[0.14542389],\n",
      "       [0.26428223]]), array([[0.17178619],\n",
      "       [0.31872964]]), array([[0.19098449],\n",
      "       [0.36219818]]), array([[0.20460775],\n",
      "       [0.39707492]]), array([[0.21389699],\n",
      "       [0.42522498]]), array([[0.2257459 ],\n",
      "       [0.47098649]]), array([[0.22716314],\n",
      "       [0.50022586]]), array([[0.22287655],\n",
      "       [0.52006219]]), array([[0.20820431],\n",
      "       [0.54894461]]), array([[0.124532  ],\n",
      "       [0.61427662]]), array([[0.08599204],\n",
      "       [0.62803184]]), array([[0.03645422],\n",
      "       [0.67896418]]), array([[0.02045071],\n",
      "       [0.67844123]]), array([[-0.02277453],\n",
      "       [ 0.70166208]]), array([[-0.03478701],\n",
      "       [ 0.71666537]]), array([[-0.05054416],\n",
      "       [ 0.72192391]]), array([[-0.06039699],\n",
      "       [ 0.73242714]]), array([[-0.08354146],\n",
      "       [ 0.74195478]]), array([[-0.0856678 ],\n",
      "       [ 0.74706109]]), array([[-0.09917469],\n",
      "       [ 0.75791006]]), array([[-0.10562305],\n",
      "       [ 0.7599035 ]]), array([[-0.10953627],\n",
      "       [ 0.76424141]]), array([[-0.11897805],\n",
      "       [ 0.76794228]]), array([[-0.11977577],\n",
      "       [ 0.77009513]]), array([[-0.12519875],\n",
      "       [ 0.77452096]]), array([[-0.12784025],\n",
      "       [ 0.77526882]]), array([[-0.12939171],\n",
      "       [ 0.77706298]]), array([[-0.13131913],\n",
      "       [ 0.77777804]]), array([[-0.13383727],\n",
      "       [ 0.78031164]]), array([[-0.13462999],\n",
      "       [ 0.78030584]]), array([[-0.13680127],\n",
      "       [ 0.78148622]]), array([[-0.13741514],\n",
      "       [ 0.78222939]]), array([[-0.13820272],\n",
      "       [ 0.78250401]]), array([[-0.13870403],\n",
      "       [ 0.78302604]]), array([[-0.13986305],\n",
      "       [ 0.78351698]]), array([[-0.13997472],\n",
      "       [ 0.78376751]]), array([[-0.14065759],\n",
      "       [ 0.78431081]]), array([[-0.1409797 ],\n",
      "       [ 0.78441549]]), array([[-0.14117901],\n",
      "       [ 0.7846309 ]]), array([[-0.1416516 ],\n",
      "       [ 0.78482215]]), array([[-0.14169378],\n",
      "       [ 0.78492766]]), array([[-0.14196804],\n",
      "       [ 0.78514919]]), array([[-0.14209991],\n",
      "       [ 0.78518873]]), array([[-0.14217902],\n",
      "       [ 0.78527775]]), array([[-0.14227544],\n",
      "       [ 0.78531483]]), array([[-0.14240338],\n",
      "       [ 0.78544092]]), array([[-0.14244267],\n",
      "       [ 0.78544161]])]\n",
      "The point in the plane is x1 = [-1.0714395] x2 = [-0.14244267] x3 = [0.78544161]\n"
     ]
    },
    {
     "name": "stderr",
     "output_type": "stream",
     "text": [
      "D:\\Anaconda\\envs\\tf_gpu\\lib\\site-packages\\ipykernel_launcher.py:43: RuntimeWarning: divide by zero encountered in log\n"
     ]
    },
    {
     "data": {
      "image/png": "[encoded data removed]",
      "text/plain": [
       "<Figure size 432x288 with 1 Axes>"
      ]
     },
     "metadata": {
      "needs_background": "light"
     },
     "output_type": "display_data"
    },
    {
     "data": {
      "image/png": "[encoded data removed]",
      "text/plain": [
       "<Figure size 432x288 with 1 Axes>"
      ]
     },
     "metadata": {
      "needs_background": "light"
     },
     "output_type": "display_data"
    }
   ],
   "source": [
    "# This is the gradient descent algorithm\n",
    "import numpy as np\n",
    "import matplotlib.pyplot as plt\n",
    "\n",
    "def obj(x):\n",
    "    return 5 * x[0] ** 2 + 10 * x[1] ** 2 + 12 * x[0] * x[1] - 8 * x[0] - 14 * x[1] + 5\n",
    "\n",
    "def grad(x):\n",
    "    return np.array([10 * x[0] + 12 * x[1] - 8, 20 * x[1] + 12 * x[0] - 14])\n",
    "\n",
    "eps = 1e-3  # termination criterion\n",
    "x0 = np.array([[0], [0]])  # initial guess\n",
    "iter = 0  # counter\n",
    "soln = [x0]  # use an array to store the search steps\n",
    "x = soln[iter]  # start with the initial guess\n",
    "error = np.linalg.norm(grad(x), ord=2)\n",
    "\n",
    "error_list = list()\n",
    "iter_list = list()\n",
    "error_list.append(error)\n",
    "iter_list.append(iter)\n",
    "\n",
    "def line_search(x):\n",
    "    a = 1.  # initialize step size\n",
    "    phi = lambda a, x: obj(x) - a * 0.8 * np.matmul(grad(x).T, grad(x))  # define phi as a search criterion\n",
    "    while phi(a, x) < obj(x - a * grad(x)):  # if f(x+a*d)>phi(a) then backtrack. d is the search direction\n",
    "        a = 0.5 * a\n",
    "    return a\n",
    "\n",
    "while error >= eps:  # keep searching while gradient norm is larger than eps\n",
    "    a = line_search(x)\n",
    "    x = x - a * grad(x)\n",
    "    soln.append(x)\n",
    "    error = np.linalg.norm(grad(x), ord=2)\n",
    "    iter += 1\n",
    "    error_list.append(error)\n",
    "    iter_list.append(iter)\n",
    "\n",
    "print(soln)  # print the search trajectory\n",
    "print('The point in the plane is', 'x1 =', 1-2*soln[-1][0]-3*soln[-1][1], 'x2 =', soln[-1][0], 'x3 =', soln[-1][1])\n",
    "f_error_list = list()\n",
    "for i in range(len(iter_list)):\n",
    "    f_error_list.append(np.log(abs(obj(soln[i]) - obj(soln[-1]))))\n",
    "    \n",
    "plt.figure(1)\n",
    "plt.plot(iter_list, f_error_list)\n",
    "plt.xlabel('iteration')\n",
    "plt.ylabel('log|f - $f^*$|')\n",
    "plt.title('Gradient descent with line search')\n",
    "plt.show()\n",
    "\n",
    "plt.figure(2)\n",
    "plt.plot(iter_list, error_list)\n",
    "plt.xlabel('iteration')\n",
    "plt.ylabel('error')\n",
    "plt.show()"
   ]
  },
  {
   "cell_type": "code",
   "execution_count": 12,
   "metadata": {},
   "outputs": [
    {
     "name": "stdout",
     "output_type": "stream",
     "text": [
      "[array([[0],\n",
      "       [0]]), array([[-0.07142857],\n",
      "       [ 0.39285714]]), array([[-0.10714286],\n",
      "       [ 0.58928571]]), array([[-0.125 ],\n",
      "       [ 0.6875]]), array([[-0.13392857],\n",
      "       [ 0.73660714]]), array([[-0.13839286],\n",
      "       [ 0.76116071]]), array([[-0.140625 ],\n",
      "       [ 0.7734375]]), array([[-0.14174107],\n",
      "       [ 0.77957589]]), array([[-0.14229911],\n",
      "       [ 0.78264509]]), array([[-0.14257812],\n",
      "       [ 0.78417969]]), array([[-0.14271763],\n",
      "       [ 0.78494699]]), array([[-0.14278739],\n",
      "       [ 0.78533064]]), array([[-0.14282227],\n",
      "       [ 0.78552246]]), array([[-0.1428397 ],\n",
      "       [ 0.78561837]]), array([[-0.14284842],\n",
      "       [ 0.78566633]])]\n",
      "The point in the plane is x1 = [-1.07130214] x2 = [-0.14284842] x3 = [0.78566633]\n"
     ]
    },
    {
     "name": "stderr",
     "output_type": "stream",
     "text": [
      "D:\\Anaconda\\envs\\tf_gpu\\lib\\site-packages\\ipykernel_launcher.py:38: RuntimeWarning: divide by zero encountered in log\n"
     ]
    },
    {
     "data": {
      "image/png": "[encoded data removed]",
      "text/plain": [
       "<Figure size 432x288 with 1 Axes>"
      ]
     },
     "metadata": {
      "needs_background": "light"
     },
     "output_type": "display_data"
    },
    {
     "data": {
      "image/png": "[encoded data removed]",
      "text/plain": [
       "<Figure size 432x288 with 1 Axes>"
      ]
     },
     "metadata": {
      "needs_background": "light"
     },
     "output_type": "display_data"
    }
   ],
   "source": [
    "# This is the Newton algorithm\n",
    "import numpy as np\n",
    "import matplotlib.pyplot as plt\n",
    "\n",
    "def obj(x):\n",
    "    return 5 * x[0] ** 2 + 10 * x[1] ** 2 + 12 * x[0] * x[1] - 8 * x[0] - 14 * x[1] + 5\n",
    "\n",
    "def grad(x):\n",
    "    return np.array([10 * x[0] + 12 * x[1] - 8, 20 * x[1] + 12 * x[0] - 14])\n",
    "\n",
    "eps = 1e-3  # termination criterion\n",
    "x0 = np.array([[0], [0]])  # initial guess\n",
    "iter = 0  # counter\n",
    "soln = [x0]  # use an array to store the search steps\n",
    "x = soln[iter]  # start with the initial guess\n",
    "error = np.linalg.norm(grad(x), ord=2)\n",
    "\n",
    "H = np.array([[10, 12], [12, 20]])  # define the Hessian matrix\n",
    "a = 0.5  # set a fixed step size to start with\n",
    "\n",
    "error_list = list()\n",
    "iter_list = list()\n",
    "error_list.append(error)\n",
    "iter_list.append(iter)\n",
    "\n",
    "while error >= eps:  # keep searching while gradient norm is larger than eps\n",
    "    x = x - a * np.matmul(np.linalg.inv(H), grad(x))\n",
    "    soln.append(x)\n",
    "    error = np.linalg.norm(grad(x), ord=2)\n",
    "    iter += 1\n",
    "    error_list.append(error)\n",
    "    iter_list.append(iter)\n",
    "\n",
    "print(soln)  # print the search trajectory\n",
    "print('The point in the plane is', 'x1 =', 1-2*soln[-1][0]-3*soln[-1][1], 'x2 =', soln[-1][0], 'x3 =', soln[-1][1])\n",
    "f_error_list = list()\n",
    "for i in range(len(iter_list)):\n",
    "    f_error_list.append(np.log(abs(obj(soln[i]) - obj(soln[-1]))))\n",
    "    \n",
    "plt.figure(1)\n",
    "plt.plot(iter_list, f_error_list)\n",
    "plt.xlabel('iteration')\n",
    "plt.xlim(0, 14)\n",
    "plt.ylabel('log|f - $f^*$|')\n",
    "plt.title('''Newton's method without line search''')\n",
    "plt.show()\n",
    "\n",
    "plt.figure(2)\n",
    "plt.plot(iter_list, error_list)\n",
    "plt.xlabel('iteration')\n",
    "plt.ylabel('error')\n",
    "plt.show()"
   ]
  },
  {
   "cell_type": "markdown",
   "metadata": {},
   "source": [
    "### Problem 3 (10 points) \n",
    "Let $f(x)$ and $g(x)$ be two convex functions defined on the convex set $\\mathcal{X}$. \n",
    "* (5 points) Prove that $af(x)+bg(x)$ is convex for $a>0$ and $b>0$. \n",
    "* (5 points) In what conditions will $f(g(x))$ be convex?"
   ]
  },
  {
   "cell_type": "markdown",
   "metadata": {},
   "source": [
    "### Answer:\n",
    "Assume $\\forall x_1, x_2 \\in \\mathcal{X}$, which has $x = \\lambda x_1 +(1-\\lambda)x_2$, $\\lambda \\in [0, 1]$. Let $h(x)=af(x)+bg(x)$ and we also know $f$ and $g$ is convex function. Then we have,\n",
    "$$\n",
    "\\begin{aligned}\n",
    "h(x)& =h(\\lambda x_1 +(1-\\lambda)x_2)\\\\ \n",
    "& \\leq a(\\lambda f(x_1) + (1 - \\lambda) f(x_2)) + b(\\lambda g(x_1) + (1 - \\lambda) g(x_2))\\\\\n",
    "& = \\lambda(af(x_1)+bg(x_1)) + (1-\\lambda)(af(x_2)+bg(x_2))\\\\ \n",
    "& = \\lambda h(x_1) + (1-\\lambda) h(x_2)\n",
    "\\end{aligned}\n",
    "$$\n",
    "Therefore, we can know that $h(x)=af(x)+bg(x)$ is the convex when $a>0$ and $b>0$.\n",
    "\n",
    "Let $h(x) = f(g(x))$, we know that $h(x)=f(g(x))$ is convex, so we can have $h^{''}(x) \\geq 0$. We also know that $h^{''}(x)=f^{''}(g(x))g^{'}(x)^2 + f^{'}(g(x))g^{''}(x)$. From the condition, $f^{''}\\geq 0$ and $g^{''}\\geq 0$ because $f$ and $g$ is convex function. Hence, if we want $h^{''}(x)=f^{''}(g(x))g^{'}(x)^2 + f^{'}(g(x))g^{''}(x) \\geq 0$, it can find that $f^{'}(g(x)) \\geq 0$, which means that $f$ should be non-decreasing function. "
   ]
  },
  {
   "cell_type": "markdown",
   "metadata": {},
   "source": [
    "### Problem 4 (bonus 10 points)\n",
    "Show that $f({\\bf x}_1) \\geq f(\\textbf{x}_0) + \n",
    "    \\textbf{g}_{\\textbf{x}_0}^T(\\textbf{x}_1-\\textbf{x}_0)$ for a convex function $f(\\textbf{x}): \\mathcal{X} \\rightarrow \\mathbb{R}$ and for $\\textbf{x}_0$, $\\textbf{x}_1 \\in \\mathcal{X}$. "
   ]
  },
  {
   "cell_type": "markdown",
   "metadata": {},
   "source": [
    "### Answer:\n",
    "We firstly prove that $f({\\bf x}_1) \\geq f(\\textbf{x}_0) + \\textbf{g}_{\\textbf{x}_0}^T(\\textbf{x}_1-\\textbf{x}_0)$ can derive that $f$ is convex function.\n",
    "Let $\\forall \\textbf{z} \\in \\mathcal{X}$, which has $\\textbf{z} = \\lambda \\textbf{x}_1 +(1-\\lambda)\\textbf{x}_0$, $\\lambda \\in [0, 1]$. Then we have\n",
    "$$\n",
    "\\begin{aligned}\n",
    "f(\\textbf{x}_1) \\geq f(\\textbf{z}) + g^T(\\textbf{z})(\\textbf{x}_1-\\textbf{z})\\\\\n",
    "f(\\textbf{x}_0) \\geq f(\\textbf{z}) + g^T(\\textbf{z})(\\textbf{x}_0-\\textbf{z})\n",
    "\\end{aligned}\n",
    "$$\n",
    "Consider $\\lambda f(\\textbf{x}_1) + (1-\\lambda)f(\\textbf{x}_0)$, it is easy to know that\n",
    "$$\n",
    "\\begin{aligned}\n",
    "\\lambda f(\\textbf{x}_1)+ (1-\\lambda)f(\\textbf{x}_0) & \\geq f(\\textbf{z}) + g^T(\\textbf{z})(\\lambda \\textbf{x}_1- \\lambda \\textbf{z} + (1-\\lambda)\\textbf{x}_0 - (1-\\lambda)\\textbf{z})\\\\\n",
    "& = f(\\textbf{z}) + g^T(\\textbf{z})(\\lambda \\textbf{x}_1 + (1-\\lambda)\\textbf{x}_0 - \\textbf{z})\\\\ \n",
    "& = f(\\textbf{z})\\\\\n",
    "& = f(\\lambda \\textbf{x}_1 +(1-\\lambda)\\textbf{x}_0)\n",
    "\\end{aligned}\n",
    "$$\n",
    "It shows that $f(\\textbf{x})$ is the convex function\n",
    "\n",
    "Next, we start to prove that convex function $f(\\textbf{x})$ can derive $f({\\bf x}_1) \\geq f(\\textbf{x}_0) + \\textbf{g}_{\\textbf{x}_0}^T(\\textbf{x}_1-\\textbf{x}_0)$.\n",
    "\n",
    "From the definition of convex function, we can have\n",
    "$$\n",
    "\\begin{aligned}\n",
    "&f(\\lambda \\textbf{x}_1 + (1 - \\lambda)\\textbf{x}_0) \\leq \\lambda f(\\textbf{x}_1) + (1-\\lambda)f(\\textbf{x}_0), \\lambda \\in [0, 1]\\\\\n",
    "\\Rightarrow & f(\\lambda \\textbf{x}_1 + (1 - \\lambda)\\textbf{x}_0) - f(\\textbf{x}_0) \\leq \\lambda (f(\\textbf{x}_1) - f(\\textbf{x}_0))\\\\\n",
    "\\Rightarrow & \\frac{f(\\lambda \\textbf{x}_1 + (1 - \\lambda)\\textbf{x}_0) - f(\\textbf{x}_0)}{\\lambda(\\textbf{x}_1-\\textbf{x}_0)}(\\textbf{x}_1-\\textbf{x}_0) \\leq (f(\\textbf{x}_1) - f(\\textbf{x}_0))\\\\\n",
    "\\end{aligned}\n",
    "$$\n",
    "take the limit on both sides of inequality\n",
    "$$\n",
    "\\begin{aligned}\n",
    "\\Rightarrow & \\lim\\limits_{\\lambda\\rightarrow 0}\\frac{f(\\lambda \\textbf{x}_1 + (1 - \\lambda)\\textbf{x}_0) - f(\\textbf{x}_0)}{\\lambda(\\textbf{x}_1-\\textbf{x}_0)}(\\textbf{x}_1-\\textbf{x}_0) \\leq \\lim\\limits_{\\lambda\\rightarrow 0}(f(\\textbf{x}_1) - f(\\textbf{x}_0))\\\\\n",
    "\\Rightarrow & g_{\\textbf{x}_0}^T(\\textbf{x}_1-\\textbf{x}_0)\\leq f(\\textbf{x}_1)-f(\\textbf{x}_0)\\\\\n",
    "\\Rightarrow & f(\\textbf{x}_1) \\geq f(\\textbf{x}_0) + \\textbf{g}_{\\textbf{x}_0}^T(\\textbf{x}_1-\\textbf{x}_0)\n",
    "\\end{aligned}\n",
    "$$\n",
    "\n",
    "Therefore, $f({\\bf x}_1) \\geq f(\\textbf{x}_0) + \\textbf{g}_{\\textbf{x}_0}^T(\\textbf{x}_1-\\textbf{x}_0) \\Leftrightarrow$ $f(\\textbf{x})$ is convex function."
   ]
  },
  {
   "cell_type": "markdown",
   "metadata": {},
   "source": [
    "# Design Problems\n",
    "\n",
    "### Problem 5 (20 points) \n",
    "Consider an illumination problem: There are $n$ lamps and $m$ mirrors fixed to the ground. The target reflection intensity level is $I_t$. The actual reflection intensity level on the $k$th mirror can be computed as $\\textbf{a}_k^T \\textbf{p}$, where $\\textbf{a}_k$ is given by the distances between all lamps to the mirror, and $\\textbf{p}:=[p_1,...,p_n]^T$ are the power output of the lamps. The objective is to keep the actual intensity levels as close to the target as possible by tuning the power output $\\textbf{p}$.\n",
    "\n",
    "* (5 points) Formulate this problem as an optimization problem. \n",
    "* (5 points) Is your problem convex?\n",
    "* (5 points) If we require the overall power output of any of the $n$ lamps to be less than $p^*$, will the problem have a unique solution?\n",
    "* (5 points) If we require no more than half of the lamps to be switched on, will the problem have a unique solution?"
   ]
  },
  {
   "cell_type": "markdown",
   "metadata": {},
   "source": [
    "### Answer:\n",
    "\n",
    "$$\n",
    "\\begin{aligned}\n",
    "&\\min_{p} \\sum_{k}(\\textbf{a}_k^T \\textbf{p} - I_t)^2 \\\\\\\\\n",
    "&s.t.: \\textbf{p}=[p_1,...,p_n]^T\n",
    "\\end{aligned}\n",
    "$$\n",
    "\n",
    "We calculate the gradient of the objective function, which is \n",
    "$$\n",
    "\\begin{aligned}\n",
    "\\sum_{k} 2(\\textbf{a}_k^T \\textbf{p} - I_t)\\textbf{a}_k\n",
    "\\end{aligned}\n",
    "$$\n",
    "Hessin materic H is\n",
    "$$\n",
    "\\begin{aligned}\n",
    "\\sum_{k} 2\\textbf{a}_k \\textbf{a}_k^T\n",
    "\\end{aligned}\n",
    "$$\n",
    "\n",
    "Assum that there exists $\\forall d \\neq 0$, then we have \n",
    "$$\n",
    "\\begin{aligned}\n",
    "d^THd & = \\sum_{k} 2 d^T\\textbf{a}_k \\textbf{a}_k^Td\\\\\n",
    "& = \\sum_{k} 2\\textbf{u}_k^T \\textbf{u}_k\\\\\n",
    "& \\geq 0\n",
    "\\end{aligned}\n",
    "$$\n",
    "which $\\textbf{a}_k^Td=\\textbf{u}_k$. Then we know that the Hessian is positive semi-definition, the objective function is convex. We also know that the feasible domain for $\\textbf{p}$ is convex. So the problem is convex.\n",
    "\n",
    "From the condition, we know that the feasible domain has the constraint, which is the subspace of the $\\textbf{p}$. But it is still the convex set. Go back to check the Hessian, if $d^THd=0$, it should meet that $\\textbf{u}_k=\\textbf{a}_k^Td=0 \\Leftrightarrow d \\bot \\textbf{a}_k \\Leftrightarrow \\textbf{a}_k$ is the subspace of the feasible domain. In the current condition, we find that the length of $\\textbf{a}_k$ is equal to the entire space $n$, so the Hessian $d^THd>0$, which means that Hessian is positive definite. Then the objective function is strictly convex, which has the unique solution.\n",
    "\n",
    "When no more than half of the lamps are switched on, $\\textbf{a}_k$ is not the entire space but the subspace, then $\\exists d$, it can make $d \\bot \\textbf{a}_k$. Hence, the Hessian can have $d^THd=0$, which means the Hessian is positive semi-definite. So the objective function is convex, which has the solutions, but not unique solution."
   ]
  }
 ],
 "metadata": {
  "kernelspec": {
   "display_name": "Python 3",
   "language": "python",
   "name": "python3"
  },
  "language_info": {
   "codemirror_mode": {
    "name": "ipython",
    "version": 3
   },
   "file_extension": ".py",
   "mimetype": "text/x-python",
   "name": "python",
   "nbconvert_exporter": "python",
   "pygments_lexer": "ipython3",
   "version": "3.7.7"
  }
 },
 "nbformat": 4,
 "nbformat_minor": 5
}
